{
  "nbformat": 4,
  "nbformat_minor": 0,
  "metadata": {
    "colab": {
      "name": "Untitled3.ipynb",
      "version": "0.3.2",
      "provenance": [],
      "collapsed_sections": [],
      "include_colab_link": true
    },
    "kernelspec": {
      "name": "python3",
      "display_name": "Python 3"
    },
    "accelerator": "TPU"
  },
  "cells": [
    {
      "cell_type": "markdown",
      "metadata": {
        "id": "view-in-github",
        "colab_type": "text"
      },
      "source": [
        "<a href=\"https://colab.research.google.com/github/rsher60/Comaprision-of-CNN-with-Recurrent-ConvNet/blob/master/CNN%20vs%20Recurrent%20ConvNet.ipynb\" target=\"_parent\"><img src=\"https://colab.research.google.com/assets/colab-badge.svg\" alt=\"Open In Colab\"/></a>"
      ]
    },
    {
      "metadata": {
        "id": "2ju4p1RsIrUz",
        "colab_type": "code",
        "outputId": "114b9e58-dedb-421f-d080-26bd36f6ea09",
        "colab": {
          "base_uri": "https://localhost:8080/",
          "height": 34
        }
      },
      "cell_type": "code",
      "source": [
        "import cv2\n",
        "import matplotlib.pyplot as plt\n",
        "import os, shutil\n",
        "from keras.preprocessing.image import ImageDataGenerator\n",
        "import glob\n",
        "import numpy as np\n",
        "from mpl_toolkits.mplot3d import Axes3D\n",
        "from mpl_toolkits import mplot3d\n",
        "from keras.models import Sequential\n",
        "from keras.layers import Dense\n",
        "from keras.layers import Dropout\n",
        "from keras.layers import Flatten, Reshape, Activation,SimpleRNN,GRU, LSTM\n",
        "from keras.layers.convolutional import Conv2D,Conv3D, Conv2DTranspose, Conv3DTranspose\n",
        "from keras.layers.convolutional import MaxPooling2D,MaxPooling3D, UpSampling2D\n",
        "from keras.preprocessing.image import ImageDataGenerator\n",
        "from keras.layers.wrappers import TimeDistributed\n",
        "import keras"
      ],
      "execution_count": 0,
      "outputs": [
        {
          "output_type": "stream",
          "text": [
            "Using TensorFlow backend.\n"
          ],
          "name": "stderr"
        }
      ]
    },
    {
      "metadata": {
        "id": "H7VIBJP0Iu3b",
        "colab_type": "code",
        "outputId": "e13cb358-2ad8-44d4-98f1-25b292f8104a",
        "colab": {
          "base_uri": "https://localhost:8080/",
          "height": 125
        }
      },
      "cell_type": "code",
      "source": [
        "from google.colab import drive\n",
        "drive.mount('/content/gdrive')"
      ],
      "execution_count": 0,
      "outputs": [
        {
          "output_type": "stream",
          "text": [
            "Go to this URL in a browser: https://accounts.google.com/o/oauth2/auth?client_id=947318989803-6bn6qk8qdgf4n4g3pfee6491hc0brc4i.apps.googleusercontent.com&redirect_uri=urn%3Aietf%3Awg%3Aoauth%3A2.0%3Aoob&scope=email%20https%3A%2F%2Fwww.googleapis.com%2Fauth%2Fdocs.test%20https%3A%2F%2Fwww.googleapis.com%2Fauth%2Fdrive%20https%3A%2F%2Fwww.googleapis.com%2Fauth%2Fdrive.photos.readonly%20https%3A%2F%2Fwww.googleapis.com%2Fauth%2Fpeopleapi.readonly&response_type=code\n",
            "\n",
            "Enter your authorization code:\n",
            "··········\n",
            "Mounted at /content/gdrive\n"
          ],
          "name": "stdout"
        }
      ]
    },
    {
      "metadata": {
        "id": "hvsdT2IyIxqB",
        "colab_type": "code",
        "colab": {}
      },
      "cell_type": "code",
      "source": [
        "base = \"/content/gdrive/My Drive/Source_4/Categorized_Parts/\""
      ],
      "execution_count": 0,
      "outputs": []
    },
    {
      "metadata": {
        "id": "1IgE7_0BIz8S",
        "colab_type": "code",
        "colab": {}
      },
      "cell_type": "code",
      "source": [
        "count_blender = {}\n",
        "for folders in os.listdir(base):\n",
        "  count = 0\n",
        "  path = os.path.join(base, folders)\n",
        "  if 'BlenderImages' in os.listdir(path):\n",
        "    path = os.path.join(path, 'BlenderImages')\n",
        "    for subfolder in os.listdir(path):\n",
        "      if os.path.isdir(os.path.join(path, subfolder)):\n",
        "        count += 1\n",
        "  count_blender[folders] = count"
      ],
      "execution_count": 0,
      "outputs": []
    },
    {
      "metadata": {
        "id": "6e1xoPe0I11v",
        "colab_type": "code",
        "colab": {}
      },
      "cell_type": "code",
      "source": [
        "categories = sorted(count_blender, key=count_blender.get, reverse=True)[:30]"
      ],
      "execution_count": 0,
      "outputs": []
    },
    {
      "metadata": {
        "id": "iZTMBouPI4TQ",
        "colab_type": "code",
        "colab": {}
      },
      "cell_type": "code",
      "source": [
        "def create_data(categories):\n",
        "  #image_array = list()\n",
        "  temp = list()\n",
        "  labels = list()\n",
        "  lab_count = 0\n",
        "  for types in categories:\n",
        "    print(types)\n",
        "    path = os.path.join(base, types, 'BlenderImages')\n",
        "    for folder in os.listdir(path):\n",
        "      igpath = os.path.join(path, folder)\n",
        "      if os.path.isdir(igpath):\n",
        "        temp2 = list()\n",
        "        count = 0\n",
        "        for files in os.listdir(igpath):\n",
        "          if count%4 == 0:\n",
        "            image = cv2.imread(os.path.join(igpath, files), 0)/255\n",
        "            image = cv2.resize(image, (24,24))\n",
        "            temp2.append(image)\n",
        "          count += 1\n",
        "          if count == 37:\n",
        "            break\n",
        "        #print('Done', end='~')\n",
        "        temp.append(temp2)\n",
        "        labels.append(lab_count)\n",
        "    lab_count+=1\n",
        "  return temp, labels"
      ],
      "execution_count": 0,
      "outputs": []
    },
    {
      "metadata": {
        "id": "w7IZU5viLQah",
        "colab_type": "code",
        "outputId": "6209b6e6-4e4d-49e5-c0c2-04acab97db54",
        "colab": {
          "base_uri": "https://localhost:8080/",
          "height": 545
        }
      },
      "cell_type": "code",
      "source": [
        "image, labels = create_data(categories)"
      ],
      "execution_count": 0,
      "outputs": [
        {
          "output_type": "stream",
          "text": [
            "Pipes\n",
            "Nuts\n",
            "O-Rings\n",
            "Rotary_Shaft\n",
            "Grommets\n",
            "Keyway_Shaft\n",
            "Bushing\n",
            "HeadlessScrews\n",
            "Machine_Key\n",
            "Sprockets\n",
            "Washers\n",
            "Gasket\n",
            "Socket_Head_Screws\n",
            "Shaft_Collar\n",
            "Slotted_Flat_Head_Screws\n",
            "Springs\n",
            "Bearings\n",
            "Hex_Head_Screws\n",
            "Brackets\n",
            "Pipe_Fittings\n",
            "Pipe_Joints\n",
            "Push_Rings\n",
            "Shafts\n",
            "Rollers\n",
            "Unthreaded_Flanges\n",
            "Bolts\n",
            "Bushing_Damping_Liners\n",
            "Joining\n",
            "Other\n",
            "Slotted_Oval_Head_Screws\n"
          ],
          "name": "stdout"
        }
      ]
    },
    {
      "metadata": {
        "id": "4eZsZsRvNohI",
        "colab_type": "code",
        "colab": {}
      },
      "cell_type": "code",
      "source": [
        "image_data = np.array(image)\n",
        "image_data = image_data.reshape(-1,10,24,24,1)"
      ],
      "execution_count": 0,
      "outputs": []
    },
    {
      "metadata": {
        "id": "f-q1HrbIVH6e",
        "colab_type": "code",
        "colab": {}
      },
      "cell_type": "code",
      "source": [
        "#d = {'Pipes':0,'Nuts':1,'O-Rings':2}\n",
        "#labels1 = [d[x] for x in labels]\n",
        "lab = keras.utils.to_categorical(labels)"
      ],
      "execution_count": 0,
      "outputs": []
    },
    {
      "metadata": {
        "id": "Qj_apkyjNu9e",
        "colab_type": "code",
        "colab": {}
      },
      "cell_type": "code",
      "source": [
        "indexes = np.arange(len(image_data))\n",
        "np.random.shuffle(indexes)\n",
        "X, y = image_data[indexes], lab[indexes]"
      ],
      "execution_count": 0,
      "outputs": []
    },
    {
      "metadata": {
        "id": "FMozVL9dXaIf",
        "colab_type": "code",
        "colab": {}
      },
      "cell_type": "code",
      "source": [
        "X_train, X_test = X[:1400], X[1400:]\n",
        "y_train, y_test = y[:1400], y[1400:]"
      ],
      "execution_count": 0,
      "outputs": []
    },
    {
      "metadata": {
        "id": "AUf3FUO5Lg7a",
        "colab_type": "code",
        "outputId": "61257a57-e94e-4fac-951e-09fc24ea52c5",
        "colab": {
          "base_uri": "https://localhost:8080/",
          "height": 703
        }
      },
      "cell_type": "code",
      "source": [
        "model = Sequential()\n",
        "model.add(TimeDistributed(Conv2D(32, (3,3)), input_shape=(10,24,24,1)))\n",
        "model.add(TimeDistributed(Activation('relu')))\n",
        "model.add(TimeDistributed(MaxPooling2D(pool_size=(2,2))))\n",
        "model.add(TimeDistributed(Conv2D(64, (3,3))))\n",
        "model.add(TimeDistributed(Activation('relu')))\n",
        "model.add(TimeDistributed(MaxPooling2D(pool_size=(2,2))))\n",
        "model.add(TimeDistributed(Conv2D(128, (3,3))))\n",
        "model.add(TimeDistributed(Activation('relu')))\n",
        "model.add(TimeDistributed(MaxPooling2D(pool_size=(2,2))))\n",
        "model.add(TimeDistributed(Dropout(0.3)))\n",
        "model.add(TimeDistributed(Flatten()))\n",
        "model.add(TimeDistributed(Dense(256)))\n",
        "model.add(LSTM(256, name=\"lstm_layer\"))\n",
        "model.add(Dense(64))\n",
        "model.add(Activation('relu'))\n",
        "model.add(Dense(29, activation='softmax'))\n",
        "model.compile(loss='categorical_crossentropy', optimizer='adam', metrics=['accuracy'])\n",
        "model.summary()"
      ],
      "execution_count": 0,
      "outputs": [
        {
          "output_type": "stream",
          "text": [
            "_________________________________________________________________\n",
            "Layer (type)                 Output Shape              Param #   \n",
            "=================================================================\n",
            "time_distributed_25 (TimeDis (None, 10, 22, 22, 32)    320       \n",
            "_________________________________________________________________\n",
            "time_distributed_26 (TimeDis (None, 10, 22, 22, 32)    0         \n",
            "_________________________________________________________________\n",
            "time_distributed_27 (TimeDis (None, 10, 11, 11, 32)    0         \n",
            "_________________________________________________________________\n",
            "time_distributed_28 (TimeDis (None, 10, 9, 9, 64)      18496     \n",
            "_________________________________________________________________\n",
            "time_distributed_29 (TimeDis (None, 10, 9, 9, 64)      0         \n",
            "_________________________________________________________________\n",
            "time_distributed_30 (TimeDis (None, 10, 4, 4, 64)      0         \n",
            "_________________________________________________________________\n",
            "time_distributed_31 (TimeDis (None, 10, 2, 2, 128)     73856     \n",
            "_________________________________________________________________\n",
            "time_distributed_32 (TimeDis (None, 10, 2, 2, 128)     0         \n",
            "_________________________________________________________________\n",
            "time_distributed_33 (TimeDis (None, 10, 1, 1, 128)     0         \n",
            "_________________________________________________________________\n",
            "time_distributed_34 (TimeDis (None, 10, 1, 1, 128)     0         \n",
            "_________________________________________________________________\n",
            "time_distributed_35 (TimeDis (None, 10, 128)           0         \n",
            "_________________________________________________________________\n",
            "time_distributed_36 (TimeDis (None, 10, 256)           33024     \n",
            "_________________________________________________________________\n",
            "lstm_layer (LSTM)            (None, 256)               525312    \n",
            "_________________________________________________________________\n",
            "dense_8 (Dense)              (None, 64)                16448     \n",
            "_________________________________________________________________\n",
            "activation_12 (Activation)   (None, 64)                0         \n",
            "_________________________________________________________________\n",
            "dense_9 (Dense)              (None, 29)                1885      \n",
            "=================================================================\n",
            "Total params: 669,341\n",
            "Trainable params: 669,341\n",
            "Non-trainable params: 0\n",
            "_________________________________________________________________\n"
          ],
          "name": "stdout"
        }
      ]
    },
    {
      "metadata": {
        "id": "gECYsFjOTeFx",
        "colab_type": "code",
        "outputId": "6c4df18b-5e4c-4585-ab9a-8ebefbdb2659",
        "colab": {
          "base_uri": "https://localhost:8080/",
          "height": 386
        }
      },
      "cell_type": "code",
      "source": [
        "history = model.fit(X_train, y_train, batch_size=16, epochs=10, validation_split = 0.2)"
      ],
      "execution_count": 0,
      "outputs": [
        {
          "output_type": "stream",
          "text": [
            "Train on 1120 samples, validate on 280 samples\n",
            "Epoch 1/10\n",
            "1120/1120 [==============================] - 13s 12ms/step - loss: 3.1782 - acc: 0.0580 - val_loss: 2.9027 - val_acc: 0.0893\n",
            "Epoch 2/10\n",
            "1120/1120 [==============================] - 12s 10ms/step - loss: 2.8226 - acc: 0.1188 - val_loss: 2.6190 - val_acc: 0.1821\n",
            "Epoch 3/10\n",
            "1120/1120 [==============================] - 12s 10ms/step - loss: 2.3490 - acc: 0.2661 - val_loss: 2.1022 - val_acc: 0.3357\n",
            "Epoch 4/10\n",
            "1120/1120 [==============================] - 11s 10ms/step - loss: 1.6725 - acc: 0.4813 - val_loss: 1.4257 - val_acc: 0.5643\n",
            "Epoch 5/10\n",
            "1120/1120 [==============================] - 11s 10ms/step - loss: 1.0864 - acc: 0.6679 - val_loss: 0.8596 - val_acc: 0.6821\n",
            "Epoch 6/10\n",
            "1120/1120 [==============================] - 11s 10ms/step - loss: 0.7170 - acc: 0.7545 - val_loss: 0.6340 - val_acc: 0.7893\n",
            "Epoch 7/10\n",
            "1120/1120 [==============================] - 12s 10ms/step - loss: 0.4830 - acc: 0.8411 - val_loss: 0.6426 - val_acc: 0.7893\n",
            "Epoch 8/10\n",
            "1120/1120 [==============================] - 11s 10ms/step - loss: 0.4557 - acc: 0.8384 - val_loss: 0.6235 - val_acc: 0.8071\n",
            "Epoch 9/10\n",
            "1120/1120 [==============================] - 11s 10ms/step - loss: 0.3770 - acc: 0.8679 - val_loss: 0.3812 - val_acc: 0.8786\n",
            "Epoch 10/10\n",
            "1120/1120 [==============================] - 11s 10ms/step - loss: 0.2910 - acc: 0.8929 - val_loss: 0.3765 - val_acc: 0.8893\n"
          ],
          "name": "stdout"
        }
      ]
    },
    {
      "metadata": {
        "id": "jdeDa3TEZhrB",
        "colab_type": "code",
        "outputId": "a28ea431-df38-4992-8fc7-2db8dc22b3e7",
        "colab": {
          "base_uri": "https://localhost:8080/",
          "height": 34
        }
      },
      "cell_type": "code",
      "source": [
        "output = model.predict_classes(X_test)\n",
        "sum(np.argmax(y_test, axis=1) == output)/len(y_test)"
      ],
      "execution_count": 0,
      "outputs": [
        {
          "output_type": "execute_result",
          "data": {
            "text/plain": [
              "0.8594594594594595"
            ]
          },
          "metadata": {
            "tags": []
          },
          "execution_count": 30
        }
      ]
    },
    {
      "metadata": {
        "id": "uzn7WZlvk3xb",
        "colab_type": "code",
        "outputId": "c9cc2ee1-4625-460b-81c2-06876f8110e5",
        "colab": {
          "base_uri": "https://localhost:8080/",
          "height": 347
        }
      },
      "cell_type": "code",
      "source": [
        "plt.figure()\n",
        "plt.plot(np.arange(10),history.history['loss'],label=\"Loss\")\n",
        "plt.plot(np.arange(10),history.history['val_loss'],label='Val Loss')\n",
        "plt.legend()\n",
        "plt.show()"
      ],
      "execution_count": 0,
      "outputs": [
        {
          "output_type": "display_data",
          "data": {
            "image/png": "[encoded data removed]",
            "text/plain": [
              "<matplotlib.figure.Figure at 0x7fab3d2285f8>"
            ]
          },
          "metadata": {
            "tags": []
          }
        }
      ]
    },
    {
      "metadata": {
        "id": "hFJ7AvZXlVka",
        "colab_type": "code",
        "colab": {}
      },
      "cell_type": "code",
      "source": [
        "X = image_data.reshape(-1,24,24,1)\n",
        "y = np.repeat(lab, 10, axis=0)"
      ],
      "execution_count": 0,
      "outputs": []
    },
    {
      "metadata": {
        "id": "iPw52RIJoPJd",
        "colab_type": "code",
        "colab": {}
      },
      "cell_type": "code",
      "source": [
        "indexes = np.arange(len(X))\n",
        "np.random.shuffle(indexes)\n",
        "X, y = X[indexes], y[indexes]"
      ],
      "execution_count": 0,
      "outputs": []
    },
    {
      "metadata": {
        "id": "KWkXhxMcqlHD",
        "colab_type": "code",
        "colab": {}
      },
      "cell_type": "code",
      "source": [
        "X_train, X_test = X[:14000], X[14000:]\n",
        "y_train, y_test = y[:14000], y[14000:]"
      ],
      "execution_count": 0,
      "outputs": []
    },
    {
      "metadata": {
        "id": "CZcFzRQdoaN9",
        "colab_type": "code",
        "outputId": "34c94b85-a6f5-4186-91f5-5abb2f346dac",
        "colab": {
          "base_uri": "https://localhost:8080/",
          "height": 492
        }
      },
      "cell_type": "code",
      "source": [
        "model = Sequential()\n",
        "model.add(Conv2D(32,(3,3),activation='relu',input_shape=(24,24,1)))\n",
        "model.add(MaxPooling2D((2,2)))\n",
        "model.add(Conv2D(64,(3,3),activation='relu'))\n",
        "model.add(MaxPooling2D((2,2)))\n",
        "model.add(Conv2D(128,(3,3),activation='relu'))\n",
        "model.add(MaxPooling2D((2,2)))\n",
        "model.add(Dropout(0.3))\n",
        "model.add(Flatten())\n",
        "model.add(Dense(256, activation='relu'))\n",
        "model.add(Dense(29, activation='softmax'))\n",
        "model.compile(loss='categorical_crossentropy', optimizer='adam', metrics=['accuracy'])\n",
        "\n",
        "model.summary()"
      ],
      "execution_count": 0,
      "outputs": [
        {
          "output_type": "stream",
          "text": [
            "_________________________________________________________________\n",
            "Layer (type)                 Output Shape              Param #   \n",
            "=================================================================\n",
            "conv2d_10 (Conv2D)           (None, 22, 22, 32)        320       \n",
            "_________________________________________________________________\n",
            "max_pooling2d_10 (MaxPooling (None, 11, 11, 32)        0         \n",
            "_________________________________________________________________\n",
            "conv2d_11 (Conv2D)           (None, 9, 9, 64)          18496     \n",
            "_________________________________________________________________\n",
            "max_pooling2d_11 (MaxPooling (None, 4, 4, 64)          0         \n",
            "_________________________________________________________________\n",
            "conv2d_12 (Conv2D)           (None, 2, 2, 128)         73856     \n",
            "_________________________________________________________________\n",
            "max_pooling2d_12 (MaxPooling (None, 1, 1, 128)         0         \n",
            "_________________________________________________________________\n",
            "dropout_4 (Dropout)          (None, 1, 1, 128)         0         \n",
            "_________________________________________________________________\n",
            "flatten_4 (Flatten)          (None, 128)               0         \n",
            "_________________________________________________________________\n",
            "dense_10 (Dense)             (None, 256)               33024     \n",
            "_________________________________________________________________\n",
            "dense_11 (Dense)             (None, 29)                7453      \n",
            "=================================================================\n",
            "Total params: 133,149\n",
            "Trainable params: 133,149\n",
            "Non-trainable params: 0\n",
            "_________________________________________________________________\n"
          ],
          "name": "stdout"
        }
      ]
    },
    {
      "metadata": {
        "id": "OXLU_XjHqtcn",
        "colab_type": "code",
        "outputId": "5158252c-ad50-4bad-9d97-3e8e1acf4e8b",
        "colab": {
          "base_uri": "https://localhost:8080/",
          "height": 386
        }
      },
      "cell_type": "code",
      "source": [
        "history2 = model.fit(X_train, y_train, batch_size=16, epochs=10, validation_split = 0.2)"
      ],
      "execution_count": 0,
      "outputs": [
        {
          "output_type": "stream",
          "text": [
            "Train on 11200 samples, validate on 2800 samples\n",
            "Epoch 1/10\n",
            "11200/11200 [==============================] - 13s 1ms/step - loss: 2.4525 - acc: 0.2614 - val_loss: 1.6433 - val_acc: 0.4811\n",
            "Epoch 2/10\n",
            "11200/11200 [==============================] - 12s 1ms/step - loss: 1.5046 - acc: 0.5201 - val_loss: 1.0935 - val_acc: 0.6489\n",
            "Epoch 3/10\n",
            "11200/11200 [==============================] - 12s 1ms/step - loss: 1.1337 - acc: 0.6329 - val_loss: 0.9044 - val_acc: 0.6993\n",
            "Epoch 4/10\n",
            "11200/11200 [==============================] - 12s 1ms/step - loss: 0.9284 - acc: 0.6892 - val_loss: 0.7262 - val_acc: 0.7504\n",
            "Epoch 5/10\n",
            "11200/11200 [==============================] - 12s 1ms/step - loss: 0.8152 - acc: 0.7170 - val_loss: 0.6074 - val_acc: 0.7918\n",
            "Epoch 6/10\n",
            "11200/11200 [==============================] - 12s 1ms/step - loss: 0.7278 - acc: 0.7467 - val_loss: 0.5722 - val_acc: 0.7971\n",
            "Epoch 7/10\n",
            "11200/11200 [==============================] - 12s 1ms/step - loss: 0.6610 - acc: 0.7663 - val_loss: 0.5652 - val_acc: 0.7975\n",
            "Epoch 8/10\n",
            "11200/11200 [==============================] - 12s 1ms/step - loss: 0.6285 - acc: 0.7755 - val_loss: 0.5021 - val_acc: 0.8189\n",
            "Epoch 9/10\n",
            "11200/11200 [==============================] - 12s 1ms/step - loss: 0.5806 - acc: 0.7927 - val_loss: 0.4759 - val_acc: 0.8275\n",
            "Epoch 10/10\n",
            "11200/11200 [==============================] - 12s 1ms/step - loss: 0.5484 - acc: 0.7978 - val_loss: 0.4645 - val_acc: 0.8243\n"
          ],
          "name": "stdout"
        }
      ]
    },
    {
      "metadata": {
        "id": "1LEzG4U_qaNW",
        "colab_type": "code",
        "outputId": "6c8ec2a4-a1c1-4985-a752-2ae8e548ee3b",
        "colab": {
          "base_uri": "https://localhost:8080/",
          "height": 34
        }
      },
      "cell_type": "code",
      "source": [
        "output = model.predict_classes(X_test)\n",
        "sum(np.argmax(y_test, axis=1) == output)/len(y_test)"
      ],
      "execution_count": 0,
      "outputs": [
        {
          "output_type": "execute_result",
          "data": {
            "text/plain": [
              "0.8286486486486486"
            ]
          },
          "metadata": {
            "tags": []
          },
          "execution_count": 45
        }
      ]
    },
    {
      "metadata": {
        "id": "dZpEVIYkrI0Q",
        "colab_type": "code",
        "outputId": "7e862d1e-1b61-41c3-cb01-c916401d3d6b",
        "colab": {
          "base_uri": "https://localhost:8080/",
          "height": 347
        }
      },
      "cell_type": "code",
      "source": [
        "plt.figure()\n",
        "plt.plot(np.arange(10),history2.history['loss'],label=\"Loss\")\n",
        "plt.plot(np.arange(10),history2.history['val_loss'],label='Val Loss')\n",
        "plt.legend()\n",
        "plt.show()"
      ],
      "execution_count": 0,
      "outputs": [
        {
          "output_type": "display_data",
          "data": {
            "image/png": "[encoded data removed]",
            "text/plain": [
              "<matplotlib.figure.Figure at 0x7fab3cbf3898>"
            ]
          },
          "metadata": {
            "tags": []
          }
        }
      ]
    }
  ]
}